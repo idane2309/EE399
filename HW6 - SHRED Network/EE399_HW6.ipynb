{
 "cells": [
  {
   "attachments": {},
   "cell_type": "markdown",
   "metadata": {},
   "source": [
    "# HW6 - SHRED applied to SST dataset\n",
    "# Ishan Dane\n",
    "# Github: https://github.com/idane2309"
   ]
  },
  {
   "attachments": {},
   "cell_type": "markdown",
   "metadata": {},
   "source": [
    "\n",
    "\n",
    "SHRED (SHallow REcurrent Decoder) models are a network architecture that merges a recurrent layer (LSTM) with a shallow decoder network (SDN) to reconstruct high-dimensional spatio-temporal fields from a trajectory of sensor measurements of the field. More formally, the SHRED architecture can be written as \n",
    "$$ \\mathcal {H} \\left( \\{ y_i \\} _{i=t-k}^t \\right) = \\mathcal {F} \\left( \\mathcal {G} \\left( \\{ y_i \\} _{i=t-k}^t \\right) ; W_{RN}) ; W_{SD} \\right)$$\n",
    "where $\\mathcal F$ is a feed forward network parameterized by weights $W_{SD}$, $\\mathcal G$ is a LSTM network parameterized by weights $W_{RN}$, and $\\{ y_i \\} _{i=t-k}^t$ is a trajectory of sensor measurements of a high-dimensional spatio-temporal field $\\{ x_i \\} _{i=t-k}^t$."
   ]
  },
  {
   "attachments": {},
   "cell_type": "markdown",
   "metadata": {},
   "source": [
    "We first randomly select 3 sensor locations and set the trajectory length (lags) to 52, corresponding to one year of measurements."
   ]
  },
  {
   "cell_type": "code",
   "execution_count": 6,
   "metadata": {},
   "outputs": [],
   "source": [
    "import numpy as np\n",
    "from processdata import load_data\n",
    "from processdata import TimeSeriesDataset\n",
    "import models\n",
    "import torch\n",
    "import matplotlib.pyplot as plt\n",
    "from sklearn.preprocessing import MinMaxScaler\n",
    "\n",
    "num_sensors = 3 \n",
    "lags = 52\n",
    "load_X = load_data('SST')\n",
    "n = load_X.shape[0]\n",
    "m = load_X.shape[1]\n",
    "sensor_locations = np.random.choice(m, size=num_sensors, replace=False)"
   ]
  },
  {
   "attachments": {},
   "cell_type": "markdown",
   "metadata": {},
   "source": [
    "We now select indices to divide the data into training, validation, and test sets."
   ]
  },
  {
   "cell_type": "code",
   "execution_count": 16,
   "metadata": {},
   "outputs": [],
   "source": [
    "train_indices = np.random.choice(n - lags, size=1000, replace=False)\n",
    "mask = np.ones(n - lags)\n",
    "mask[train_indices] = 0\n",
    "valid_test_indices = np.arange(0, n - lags)[np.where(mask!=0)[0]]\n",
    "valid_indices = valid_test_indices[::2]\n",
    "test_indices = valid_test_indices[1::2]"
   ]
  },
  {
   "attachments": {},
   "cell_type": "markdown",
   "metadata": {},
   "source": [
    "sklearn's MinMaxScaler is used to preprocess the data for training and we generate input/output pairs for the training, validation, and test sets. "
   ]
  },
  {
   "cell_type": "code",
   "execution_count": 12,
   "metadata": {},
   "outputs": [],
   "source": [
    "sc = MinMaxScaler()\n",
    "sc = sc.fit(load_X[train_indices])\n",
    "transformed_X = sc.transform(load_X)\n",
    "\n",
    "### Generate input sequences to a SHRED model\n",
    "all_data_in = np.zeros((n - lags, lags, num_sensors))\n",
    "for i in range(len(all_data_in)):\n",
    "    all_data_in[i] = transformed_X[i:i+lags, sensor_locations]\n",
    "\n",
    "### Generate training validation and test datasets both for reconstruction of states and forecasting sensors\n",
    "device = 'cuda' if torch.cuda.is_available() else 'cpu'\n",
    "\n",
    "train_data_in = torch.tensor(all_data_in[train_indices], dtype=torch.float32).to(device)\n",
    "valid_data_in = torch.tensor(all_data_in[valid_indices], dtype=torch.float32).to(device)\n",
    "test_data_in = torch.tensor(all_data_in[test_indices], dtype=torch.float32).to(device)\n",
    "\n",
    "### -1 to have output be at the same time as final sensor measurements\n",
    "train_data_out = torch.tensor(transformed_X[train_indices + lags - 1], dtype=torch.float32).to(device)\n",
    "valid_data_out = torch.tensor(transformed_X[valid_indices + lags - 1], dtype=torch.float32).to(device)\n",
    "test_data_out = torch.tensor(transformed_X[test_indices + lags - 1], dtype=torch.float32).to(device)\n",
    "\n",
    "train_dataset = TimeSeriesDataset(train_data_in, train_data_out)\n",
    "valid_dataset = TimeSeriesDataset(valid_data_in, valid_data_out)\n",
    "test_dataset = TimeSeriesDataset(test_data_in, test_data_out)"
   ]
  },
  {
   "attachments": {},
   "cell_type": "markdown",
   "metadata": {},
   "source": [
    "We train the model using the training and validation datasets."
   ]
  },
  {
   "cell_type": "code",
   "execution_count": 13,
   "metadata": {},
   "outputs": [
    {
     "name": "stdout",
     "output_type": "stream",
     "text": [
      "Training epoch 1\n",
      "Error tensor(0.4672)\n",
      "Training epoch 20\n",
      "Error tensor(0.2242)\n",
      "Training epoch 40\n",
      "Error tensor(0.2134)\n",
      "Training epoch 60\n",
      "Error tensor(0.2056)\n",
      "Training epoch 80\n",
      "Error tensor(0.2027)\n",
      "Training epoch 100\n",
      "Error tensor(0.2000)\n",
      "Training epoch 120\n",
      "Error tensor(0.1969)\n",
      "Training epoch 140\n",
      "Error tensor(0.1923)\n",
      "Training epoch 160\n",
      "Error tensor(0.1890)\n",
      "Training epoch 180\n",
      "Error tensor(0.1827)\n",
      "Training epoch 200\n",
      "Error tensor(0.1749)\n",
      "Training epoch 220\n",
      "Error tensor(0.1655)\n",
      "Training epoch 240\n",
      "Error tensor(0.1506)\n",
      "Training epoch 260\n",
      "Error tensor(0.1408)\n",
      "Training epoch 280\n",
      "Error tensor(0.1330)\n",
      "Training epoch 300\n",
      "Error tensor(0.1260)\n",
      "Training epoch 320\n",
      "Error tensor(0.1251)\n",
      "Training epoch 340\n",
      "Error tensor(0.1224)\n",
      "Training epoch 360\n",
      "Error tensor(0.1193)\n",
      "Training epoch 380\n",
      "Error tensor(0.1177)\n",
      "Training epoch 400\n",
      "Error tensor(0.1174)\n",
      "Training epoch 420\n",
      "Error tensor(0.1161)\n",
      "Training epoch 440\n",
      "Error tensor(0.1178)\n",
      "Training epoch 460\n",
      "Error tensor(0.1141)\n",
      "Training epoch 480\n",
      "Error tensor(0.1135)\n",
      "Training epoch 500\n",
      "Error tensor(0.1142)\n",
      "Training epoch 520\n",
      "Error tensor(0.1127)\n",
      "Training epoch 540\n",
      "Error tensor(0.1114)\n",
      "Training epoch 560\n",
      "Error tensor(0.1130)\n",
      "Training epoch 580\n",
      "Error tensor(0.1124)\n",
      "Training epoch 600\n",
      "Error tensor(0.1117)\n",
      "Training epoch 620\n",
      "Error tensor(0.1110)\n",
      "Training epoch 640\n",
      "Error tensor(0.1103)\n",
      "Training epoch 660\n",
      "Error tensor(0.1093)\n",
      "Training epoch 680\n",
      "Error tensor(0.1102)\n",
      "Training epoch 700\n",
      "Error tensor(0.1103)\n",
      "Training epoch 720\n",
      "Error tensor(0.1105)\n",
      "Training epoch 740\n",
      "Error tensor(0.1083)\n",
      "Training epoch 760\n",
      "Error tensor(0.1089)\n",
      "Training epoch 780\n",
      "Error tensor(0.1083)\n",
      "Training epoch 800\n",
      "Error tensor(0.1093)\n",
      "Training epoch 820\n",
      "Error tensor(0.1083)\n",
      "Training epoch 840\n",
      "Error tensor(0.1080)\n",
      "Training epoch 860\n",
      "Error tensor(0.1080)\n",
      "Training epoch 880\n",
      "Error tensor(0.1082)\n",
      "Training epoch 900\n",
      "Error tensor(0.1087)\n",
      "Training epoch 920\n",
      "Error tensor(0.1077)\n",
      "Training epoch 940\n",
      "Error tensor(0.1081)\n",
      "Training epoch 960\n",
      "Error tensor(0.1078)\n",
      "Training epoch 980\n",
      "Error tensor(0.1078)\n",
      "Training epoch 1000\n",
      "Error tensor(0.1089)\n"
     ]
    }
   ],
   "source": [
    "shred = models.SHRED(num_sensors, m, hidden_size=64, hidden_layers=2, l1=350, l2=400, dropout=0.1).to(device)\n",
    "validation_errors = models.fit(shred, train_dataset, valid_dataset, batch_size=64, num_epochs=1000, lr=1e-3, verbose=True, patience=5)"
   ]
  },
  {
   "attachments": {},
   "cell_type": "markdown",
   "metadata": {},
   "source": [
    "Finally, we generate reconstructions from the test set and print mean square error compared to the ground truth."
   ]
  },
  {
   "cell_type": "code",
   "execution_count": 14,
   "metadata": {},
   "outputs": [
    {
     "name": "stdout",
     "output_type": "stream",
     "text": [
      "0.019603658\n"
     ]
    }
   ],
   "source": [
    "test_recons = sc.inverse_transform(shred(test_dataset.X).detach().cpu().numpy())\n",
    "test_ground_truth = sc.inverse_transform(test_dataset.Y.detach().cpu().numpy())\n",
    "print(np.linalg.norm(test_recons - test_ground_truth) / np.linalg.norm(test_ground_truth))"
   ]
  },
  {
   "cell_type": "code",
   "execution_count": 15,
   "metadata": {},
   "outputs": [
    {
     "data": {
      "image/png": "[encoded data removed]",
      "text/plain": [
       "<Figure size 720x360 with 1 Axes>"
      ]
     },
     "metadata": {
      "needs_background": "light"
     },
     "output_type": "display_data"
    },
    {
     "data": {
      "image/png": "[encoded data removed]",
      "text/plain": [
       "<Figure size 720x360 with 1 Axes>"
      ]
     },
     "metadata": {
      "needs_background": "light"
     },
     "output_type": "display_data"
    }
   ],
   "source": [
    "# Plot the results\n",
    "plt.figure(figsize=(10, 5))\n",
    "plt.plot(validation_errors)\n",
    "plt.title('Learning Curve')\n",
    "plt.xlabel('Epoch')\n",
    "plt.ylabel('Validation Error')\n",
    "plt.show()\n",
    "\n",
    "plt.figure(figsize=(10, 5))\n",
    "plt.plot(test_recons[:, 0], label='Reconstruction')\n",
    "plt.plot(test_ground_truth[:, 0], label='Ground Truth')\n",
    "plt.title('Ground Truth vs Reconstruction')\n",
    "plt.xlabel('Time')\n",
    "plt.ylabel('SST')\n",
    "plt.legend()\n",
    "plt.show()\n",
    "\n"
   ]
  },
  {
   "cell_type": "code",
   "execution_count": 7,
   "metadata": {},
   "outputs": [
    {
     "name": "stdout",
     "output_type": "stream",
     "text": [
      "Training epoch 1\n",
      "Error tensor(0.5568)\n",
      "Training epoch 20\n",
      "Error tensor(0.3050)\n",
      "Training epoch 1\n",
      "Error tensor(0.5089)\n",
      "Training epoch 20\n",
      "Error tensor(0.2983)\n",
      "Training epoch 1\n",
      "Error tensor(0.5057)\n",
      "Training epoch 20\n",
      "Error tensor(0.3026)\n",
      "Training epoch 1\n",
      "Error tensor(0.4787)\n",
      "Training epoch 20\n",
      "Error tensor(0.3049)\n",
      "Training epoch 1\n",
      "Error tensor(0.4655)\n",
      "Training epoch 20\n",
      "Error tensor(0.2577)\n",
      "Training epoch 1\n",
      "Error tensor(0.4673)\n",
      "Training epoch 20\n",
      "Error tensor(0.2374)\n",
      "Training epoch 1\n",
      "Error tensor(0.4756)\n",
      "Training epoch 20\n",
      "Error tensor(0.2366)\n"
     ]
    },
    {
     "data": {
      "image/png": "[encoded data removed]",
      "text/plain": [
       "<Figure size 720x360 with 1 Axes>"
      ]
     },
     "metadata": {
      "needs_background": "light"
     },
     "output_type": "display_data"
    }
   ],
   "source": [
    "# Analyze performance of model as a function of the time lag variable\n",
    "more_lags = [1, 2, 4, 8, 16, 32, 52]\n",
    "errors = []\n",
    "for lag in more_lags:\n",
    "    # Train model to each time lag variable\n",
    "    train_indices = np.random.choice(n - lag, size=1000, replace=False)\n",
    "    mask = np.ones(n - lag)\n",
    "    mask[train_indices] = 0\n",
    "    valid_test_indices = np.arange(0, n - lag)[np.where(mask!=0)[0]]\n",
    "    valid_indices = valid_test_indices[::2]\n",
    "    test_indices = valid_test_indices[1::2]\n",
    "\n",
    "    sc = MinMaxScaler()\n",
    "    sc = sc.fit(load_X[train_indices])\n",
    "    transformed_X = sc.transform(load_X)\n",
    "\n",
    "    ### Generate input sequences to a SHRED model\n",
    "    all_data_in = np.zeros((n - lag, lag, num_sensors))\n",
    "    for i in range(len(all_data_in)):\n",
    "        all_data_in[i] = transformed_X[i:i+lag, sensor_locations]\n",
    "    \n",
    "    ### Generate training validation and test datasets both for reconstruction of states and forecasting sensors\n",
    "    device = 'cuda' if torch.cuda.is_available() else 'cpu'\n",
    "\n",
    "    train_data_in = torch.tensor(all_data_in[train_indices], dtype=torch.float32).to(device)\n",
    "    valid_data_in = torch.tensor(all_data_in[valid_indices], dtype=torch.float32).to(device)\n",
    "    test_data_in = torch.tensor(all_data_in[test_indices], dtype=torch.float32).to(device)\n",
    "\n",
    "    ### -1 to have output be at the same time as final sensor measurements\n",
    "    train_data_out = torch.tensor(transformed_X[train_indices + lag - 1], dtype=torch.float32).to(device)\n",
    "    valid_data_out = torch.tensor(transformed_X[valid_indices + lag - 1], dtype=torch.float32).to(device)\n",
    "    test_data_out = torch.tensor(transformed_X[test_indices + lag - 1], dtype=torch.float32).to(device)\n",
    "\n",
    "    train_dataset = TimeSeriesDataset(train_data_in, train_data_out)\n",
    "    valid_dataset = TimeSeriesDataset(valid_data_in, valid_data_out)\n",
    "    test_dataset = TimeSeriesDataset(test_data_in, test_data_out)\n",
    "\n",
    "    shred = models.SHRED(num_sensors, m, hidden_size=64, hidden_layers=2, l1=350, l2=400, dropout=0.1).to(device)\n",
    "    validation_errors = models.fit(shred, train_dataset, valid_dataset, batch_size=64, num_epochs=25, lr=1e-3, verbose=True, patience=5)\n",
    "\n",
    "    test_recons = sc.inverse_transform(shred(test_dataset.X).detach().cpu().numpy())\n",
    "    test_ground_truth = sc.inverse_transform(test_dataset.Y.detach().cpu().numpy())\n",
    "    errors.append(np.linalg.norm(test_recons - test_ground_truth) / np.linalg.norm(test_ground_truth))\n",
    "\n",
    "plt.figure(figsize=(10, 5))\n",
    "plt.plot(more_lags, errors)\n",
    "plt.title('Relative Error vs. Time Lag')\n",
    "plt.xlabel('Time Lag')\n",
    "plt.ylabel('Relative Error')\n",
    "plt.show()\n",
    "\n",
    "\n",
    "\n",
    "\n"
   ]
  },
  {
   "cell_type": "code",
   "execution_count": 10,
   "metadata": {},
   "outputs": [
    {
     "name": "stdout",
     "output_type": "stream",
     "text": [
      "Training epoch 1\n",
      "Error tensor(0.4703)\n",
      "Training epoch 20\n",
      "Error tensor(0.2244)\n",
      "Training epoch 1\n",
      "Error tensor(0.4560)\n",
      "Training epoch 20\n",
      "Error tensor(0.2163)\n",
      "Training epoch 1\n",
      "Error tensor(0.4551)\n",
      "Training epoch 20\n",
      "Error tensor(0.2149)\n",
      "Training epoch 1\n",
      "Error tensor(0.4455)\n",
      "Training epoch 20\n",
      "Error tensor(0.2101)\n",
      "Training epoch 1\n",
      "Error tensor(0.4480)\n",
      "Training epoch 20\n",
      "Error tensor(0.2155)\n",
      "Training epoch 1\n",
      "Error tensor(0.4200)\n",
      "Training epoch 20\n",
      "Error tensor(0.2160)\n"
     ]
    },
    {
     "data": {
      "image/png": "[encoded data removed]",
      "text/plain": [
       "<Figure size 720x360 with 1 Axes>"
      ]
     },
     "metadata": {
      "needs_background": "light"
     },
     "output_type": "display_data"
    }
   ],
   "source": [
    "# Do an analysis of the performance as a function of noise (add Gaussian noise to data)\n",
    "noise_levels = [0.0, 0.01, 0.05, 0.1, 0.2, 0.3]\n",
    "errors = []\n",
    "for noise_level in noise_levels:\n",
    "    # Load Data With Gaussian Noise\n",
    "    #noisy_X = load_X + noise_level * np.random.randn(*load_X.shape)\n",
    "    noisy_X = load_X + np.random.normal(loc=0.0, scale=noise_level, size=(load_X.shape))\n",
    "\n",
    "    # Train model to each time lag variable\n",
    "    train_indices = np.random.choice(n - lags, size=1000, replace=False)\n",
    "    mask = np.ones(n - lags)\n",
    "    mask[train_indices] = 0\n",
    "    valid_test_indices = np.arange(0, n - lags)[np.where(mask!=0)[0]]\n",
    "    valid_indices = valid_test_indices[::2]\n",
    "    test_indices = valid_test_indices[1::2]\n",
    "\n",
    "    sc = MinMaxScaler()\n",
    "    sc = sc.fit(noisy_X[train_indices])\n",
    "    transformed_X = sc.transform(noisy_X)\n",
    "\n",
    "    ### Generate input sequences to a SHRED model\n",
    "    all_data_in = np.zeros((n - lags, lags, num_sensors))\n",
    "    for i in range(len(all_data_in)):\n",
    "        all_data_in[i] = transformed_X[i:i+lags, sensor_locations]\n",
    "    \n",
    "    ### Generate training validation and test datasets both for reconstruction of states and forecasting sensors\n",
    "    device = 'cuda' if torch.cuda.is_available() else 'cpu'\n",
    "\n",
    "    train_data_in = torch.tensor(all_data_in[train_indices], dtype=torch.float32).to(device)\n",
    "    valid_data_in = torch.tensor(all_data_in[valid_indices], dtype=torch.float32).to(device)\n",
    "    test_data_in = torch.tensor(all_data_in[test_indices], dtype=torch.float32).to(device)\n",
    "\n",
    "    ### -1 to have output be at the same time as final sensor measurements\n",
    "    train_data_out = torch.tensor(transformed_X[train_indices + lags - 1], dtype=torch.float32).to(device)\n",
    "    valid_data_out = torch.tensor(transformed_X[valid_indices + lags - 1], dtype=torch.float32).to(device)\n",
    "    test_data_out = torch.tensor(transformed_X[test_indices + lags - 1], dtype=torch.float32).to(device)\n",
    "\n",
    "    train_dataset = TimeSeriesDataset(train_data_in, train_data_out)\n",
    "    valid_dataset = TimeSeriesDataset(valid_data_in, valid_data_out)\n",
    "    test_dataset = TimeSeriesDataset(test_data_in, test_data_out)\n",
    "\n",
    "    shred = models.SHRED(num_sensors, m, hidden_size=64, hidden_layers=2, l1=350, l2=400, dropout=0.1).to(device)\n",
    "    validation_errors = models.fit(shred, train_dataset, valid_dataset, batch_size=64, num_epochs=25, lr=1e-3, verbose=True, patience=5)\n",
    "\n",
    "    test_recons = sc.inverse_transform(shred(test_dataset.X).detach().cpu().numpy())\n",
    "    test_ground_truth = sc.inverse_transform(test_dataset.Y.detach().cpu().numpy())\n",
    "\n",
    "    errors.append(np.linalg.norm(test_recons - test_ground_truth) / np.linalg.norm(test_ground_truth))\n",
    "\n",
    "plt.figure(figsize=(10, 5))\n",
    "plt.plot(noise_levels, errors)\n",
    "plt.title('Relative Error vs. Noise Level')\n",
    "plt.xlabel('Noise Level')\n",
    "plt.ylabel('Relative Error')\n",
    "plt.show()\n",
    "\n",
    "    \n",
    "\n",
    "    "
   ]
  },
  {
   "cell_type": "code",
   "execution_count": 9,
   "metadata": {},
   "outputs": [
    {
     "name": "stdout",
     "output_type": "stream",
     "text": [
      "Training epoch 1\n",
      "Error tensor(0.4750)\n",
      "Training epoch 20\n",
      "Error tensor(0.3009)\n",
      "Training epoch 1\n",
      "Error tensor(0.4775)\n",
      "Training epoch 20\n",
      "Error tensor(0.2345)\n",
      "Training epoch 1\n",
      "Error tensor(0.4721)\n",
      "Training epoch 20\n",
      "Error tensor(0.2321)\n",
      "Training epoch 1\n",
      "Error tensor(0.4639)\n",
      "Training epoch 20\n",
      "Error tensor(0.2200)\n",
      "Training epoch 1\n",
      "Error tensor(0.4691)\n",
      "Training epoch 20\n",
      "Error tensor(0.2203)\n",
      "Training epoch 1\n",
      "Error tensor(0.4656)\n",
      "Training epoch 20\n",
      "Error tensor(0.2241)\n",
      "Training epoch 1\n",
      "Error tensor(0.4675)\n",
      "Training epoch 20\n",
      "Error tensor(0.2242)\n",
      "Training epoch 1\n",
      "Error tensor(0.4770)\n",
      "Training epoch 20\n",
      "Error tensor(0.2261)\n",
      "Training epoch 1\n",
      "Error tensor(0.4733)\n",
      "Training epoch 20\n",
      "Error tensor(0.2214)\n",
      "Training epoch 1\n",
      "Error tensor(0.4749)\n",
      "Training epoch 20\n",
      "Error tensor(0.2209)\n"
     ]
    },
    {
     "data": {
      "image/png": "[encoded data removed]",
      "text/plain": [
       "<Figure size 720x360 with 1 Axes>"
      ]
     },
     "metadata": {
      "needs_background": "light"
     },
     "output_type": "display_data"
    }
   ],
   "source": [
    "# Do an analysis of the performance as a function of the number of sensors\n",
    "num_sensors_list = [1, 2, 3, 4, 5, 6, 7, 8, 9, 10]\n",
    "errors = []\n",
    "for num_sensor in num_sensors_list:\n",
    "    sensor_loc = np.random.choice(m, size=num_sensor, replace=False)\n",
    "    # Train model to each time lag variable\n",
    "    train_indices = np.random.choice(n - lags, size=1000, replace=False)\n",
    "    mask = np.ones(n - lags)\n",
    "    mask[train_indices] = 0\n",
    "    valid_test_indices = np.arange(0, n - lags)[np.where(mask!=0)[0]]\n",
    "    valid_indices = valid_test_indices[::2]\n",
    "    test_indices = valid_test_indices[1::2]\n",
    "\n",
    "    sc = MinMaxScaler()\n",
    "    sc = sc.fit(load_X[train_indices])\n",
    "    transformed_X = sc.transform(load_X)\n",
    "\n",
    "    ### Generate input sequences to a SHRED model\n",
    "    all_data_in = np.zeros((n - lags, lags, num_sensor))\n",
    "    for i in range(len(all_data_in)):\n",
    "        all_data_in[i] = transformed_X[i:i+lags, sensor_loc]\n",
    "    \n",
    "    ### Generate training validation and test datasets both for reconstruction of states and forecasting sensors\n",
    "    device = 'cuda' if torch.cuda.is_available() else 'cpu'\n",
    "\n",
    "    train_data_in = torch.tensor(all_data_in[train_indices], dtype=torch.float32).to(device)\n",
    "    valid_data_in = torch.tensor(all_data_in[valid_indices], dtype=torch.float32).to(device)\n",
    "    test_data_in = torch.tensor(all_data_in[test_indices], dtype=torch.float32).to(device)\n",
    "\n",
    "    ### -1 to have output be at the same time as final sensor measurements\n",
    "    train_data_out = torch.tensor(transformed_X[train_indices + lags - 1], dtype=torch.float32).to(device)\n",
    "    valid_data_out = torch.tensor(transformed_X[valid_indices + lags - 1], dtype=torch.float32).to(device)\n",
    "    test_data_out = torch.tensor(transformed_X[test_indices + lags - 1], dtype=torch.float32).to(device)\n",
    "\n",
    "    train_dataset = TimeSeriesDataset(train_data_in, train_data_out)\n",
    "    valid_dataset = TimeSeriesDataset(valid_data_in, valid_data_out)\n",
    "    test_dataset = TimeSeriesDataset(test_data_in, test_data_out)\n",
    "\n",
    "    shred = models.SHRED(num_sensor, m, hidden_size=64, hidden_layers=2, l1=350, l2=400, dropout=0.1).to(device)\n",
    "    validation_errors = models.fit(shred, train_dataset, valid_dataset, batch_size=64, num_epochs=25, lr=1e-3, verbose=True, patience=5)\n",
    "\n",
    "    test_recons = sc.inverse_transform(shred(test_dataset.X).detach().cpu().numpy())\n",
    "    test_ground_truth = sc.inverse_transform(test_dataset.Y.detach().cpu().numpy())\n",
    "\n",
    "    errors.append(np.linalg.norm(test_recons - test_ground_truth) / np.linalg.norm(test_ground_truth))\n",
    "\n",
    "plt.figure(figsize=(10, 5))\n",
    "plt.plot(num_sensors_list, errors)\n",
    "plt.title('Relative Error vs. Number of Sensors')\n",
    "plt.xlabel('Number of Sensors')\n",
    "plt.ylabel('Relative Error')\n",
    "plt.show()\n",
    "\n",
    "    "
   ]
  },
  {
   "cell_type": "code",
   "execution_count": null,
   "metadata": {},
   "outputs": [],
   "source": []
  }
 ],
 "metadata": {
  "kernelspec": {
   "display_name": "pytorch",
   "language": "python",
   "name": "python3"
  },
  "language_info": {
   "codemirror_mode": {
    "name": "ipython",
    "version": 3
   },
   "file_extension": ".py",
   "mimetype": "text/x-python",
   "name": "python",
   "nbconvert_exporter": "python",
   "pygments_lexer": "ipython3",
   "version": "3.9.7"
  },
  "orig_nbformat": 4,
  "vscode": {
   "interpreter": {
    "hash": "071f83251836d5bb3918d2af6501aef1a588d685a567aa45f470f25864dd9495"
   }
  }
 },
 "nbformat": 4,
 "nbformat_minor": 2
}
